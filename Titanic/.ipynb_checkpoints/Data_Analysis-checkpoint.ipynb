{
 "cells": [
  {
   "cell_type": "code",
   "execution_count": 1,
   "id": "0112f47b-7eb5-41d9-8861-f265c6d8f3f3",
   "metadata": {},
   "outputs": [],
   "source": [
    "import pandas as pd\n",
    "import numpy as np"
   ]
  },
  {
   "cell_type": "code",
   "execution_count": 2,
   "id": "3cf6e704-8d31-43b6-b08b-c7aee35bc560",
   "metadata": {},
   "outputs": [
    {
     "data": {
      "text/html": [
       "<div>\n",
       "<style scoped>\n",
       "    .dataframe tbody tr th:only-of-type {\n",
       "        vertical-align: middle;\n",
       "    }\n",
       "\n",
       "    .dataframe tbody tr th {\n",
       "        vertical-align: top;\n",
       "    }\n",
       "\n",
       "    .dataframe thead th {\n",
       "        text-align: right;\n",
       "    }\n",
       "</style>\n",
       "<table border=\"1\" class=\"dataframe\">\n",
       "  <thead>\n",
       "    <tr style=\"text-align: right;\">\n",
       "      <th></th>\n",
       "      <th>PassengerId</th>\n",
       "      <th>Survived</th>\n",
       "      <th>Pclass</th>\n",
       "      <th>Name</th>\n",
       "      <th>Sex</th>\n",
       "      <th>Age</th>\n",
       "      <th>SibSp</th>\n",
       "      <th>Parch</th>\n",
       "      <th>Ticket</th>\n",
       "      <th>Fare</th>\n",
       "      <th>Cabin</th>\n",
       "      <th>Embarked</th>\n",
       "    </tr>\n",
       "  </thead>\n",
       "  <tbody>\n",
       "    <tr>\n",
       "      <th>0</th>\n",
       "      <td>1</td>\n",
       "      <td>0</td>\n",
       "      <td>3</td>\n",
       "      <td>Braund, Mr. Owen Harris</td>\n",
       "      <td>male</td>\n",
       "      <td>22.0</td>\n",
       "      <td>1</td>\n",
       "      <td>0</td>\n",
       "      <td>A/5 21171</td>\n",
       "      <td>7.2500</td>\n",
       "      <td>NaN</td>\n",
       "      <td>S</td>\n",
       "    </tr>\n",
       "    <tr>\n",
       "      <th>1</th>\n",
       "      <td>2</td>\n",
       "      <td>1</td>\n",
       "      <td>1</td>\n",
       "      <td>Cumings, Mrs. John Bradley (Florence Briggs Th...</td>\n",
       "      <td>female</td>\n",
       "      <td>38.0</td>\n",
       "      <td>1</td>\n",
       "      <td>0</td>\n",
       "      <td>PC 17599</td>\n",
       "      <td>71.2833</td>\n",
       "      <td>C85</td>\n",
       "      <td>C</td>\n",
       "    </tr>\n",
       "    <tr>\n",
       "      <th>2</th>\n",
       "      <td>3</td>\n",
       "      <td>1</td>\n",
       "      <td>3</td>\n",
       "      <td>Heikkinen, Miss. Laina</td>\n",
       "      <td>female</td>\n",
       "      <td>26.0</td>\n",
       "      <td>0</td>\n",
       "      <td>0</td>\n",
       "      <td>STON/O2. 3101282</td>\n",
       "      <td>7.9250</td>\n",
       "      <td>NaN</td>\n",
       "      <td>S</td>\n",
       "    </tr>\n",
       "    <tr>\n",
       "      <th>3</th>\n",
       "      <td>4</td>\n",
       "      <td>1</td>\n",
       "      <td>1</td>\n",
       "      <td>Futrelle, Mrs. Jacques Heath (Lily May Peel)</td>\n",
       "      <td>female</td>\n",
       "      <td>35.0</td>\n",
       "      <td>1</td>\n",
       "      <td>0</td>\n",
       "      <td>113803</td>\n",
       "      <td>53.1000</td>\n",
       "      <td>C123</td>\n",
       "      <td>S</td>\n",
       "    </tr>\n",
       "    <tr>\n",
       "      <th>4</th>\n",
       "      <td>5</td>\n",
       "      <td>0</td>\n",
       "      <td>3</td>\n",
       "      <td>Allen, Mr. William Henry</td>\n",
       "      <td>male</td>\n",
       "      <td>35.0</td>\n",
       "      <td>0</td>\n",
       "      <td>0</td>\n",
       "      <td>373450</td>\n",
       "      <td>8.0500</td>\n",
       "      <td>NaN</td>\n",
       "      <td>S</td>\n",
       "    </tr>\n",
       "  </tbody>\n",
       "</table>\n",
       "</div>"
      ],
      "text/plain": [
       "   PassengerId  Survived  Pclass  \\\n",
       "0            1         0       3   \n",
       "1            2         1       1   \n",
       "2            3         1       3   \n",
       "3            4         1       1   \n",
       "4            5         0       3   \n",
       "\n",
       "                                                Name     Sex   Age  SibSp  \\\n",
       "0                            Braund, Mr. Owen Harris    male  22.0      1   \n",
       "1  Cumings, Mrs. John Bradley (Florence Briggs Th...  female  38.0      1   \n",
       "2                             Heikkinen, Miss. Laina  female  26.0      0   \n",
       "3       Futrelle, Mrs. Jacques Heath (Lily May Peel)  female  35.0      1   \n",
       "4                           Allen, Mr. William Henry    male  35.0      0   \n",
       "\n",
       "   Parch            Ticket     Fare Cabin Embarked  \n",
       "0      0         A/5 21171   7.2500   NaN        S  \n",
       "1      0          PC 17599  71.2833   C85        C  \n",
       "2      0  STON/O2. 3101282   7.9250   NaN        S  \n",
       "3      0            113803  53.1000  C123        S  \n",
       "4      0            373450   8.0500   NaN        S  "
      ]
     },
     "metadata": {},
     "output_type": "display_data"
    }
   ],
   "source": [
    "train_df = pd.read_csv(\"./Data_File/train.csv\")\n",
    "display(train_df.head())"
   ]
  },
  {
   "cell_type": "markdown",
   "id": "20197490-cad4-41fc-a88f-12eefae236c9",
   "metadata": {},
   "source": [
    "**Feature**</br>\n",
    "Passengerld : 승객 번호 </br>\n",
    "Survived : 생존 여부 - 생존시 1 / 사망시 0 </br>\n",
    "Pclass : 객실 등급 - 숫자가 낮을수록 높은 등급의 객실 </br>\n",
    "Name : 이름 </br>\n",
    "Sex : 성별 </br>\n",
    "Age : 나이 </br>\n",
    "SibSp : 동반한 형제자매, 배우자 수 </br>\n",
    "Parch : 동반한 부모, 자식 수 </br>\n",
    "Ticket : 티켓 종류 </br>\n",
    "Fare : 요금 </br>\n",
    "Cabin : 객실 번호 </br>\n",
    "Embarked : 승선 장소 </br>"
   ]
  },
  {
   "cell_type": "markdown",
   "id": "6f3486b9-b4d3-48f1-9468-96952fddd849",
   "metadata": {},
   "source": [
    "**학습에 무의미한 feature 삭제**"
   ]
  },
  {
   "cell_type": "code",
   "execution_count": 23,
   "id": "3937ab23-9fcb-47f6-8ad5-cb0245ca4f58",
   "metadata": {},
   "outputs": [],
   "source": [
    "def delete_feature(df):\n",
    "    drop_list = ['PassengerId', 'Name', 'Ticket', 'Embarked']\n",
    "    for drop_ele in drop_list:\n",
    "        df.drop(drop_ele, axis = 1, inplace = True)\n",
    "    return df"
   ]
  },
  {
   "cell_type": "markdown",
   "id": "7cf6667c-6642-401c-851e-160749aa0c49",
   "metadata": {},
   "source": [
    "### **Feature NaN, data-type 확인**"
   ]
  },
  {
   "cell_type": "code",
   "execution_count": 4,
   "id": "4d0a6208-4d05-4652-b9fe-a7d3b490efe8",
   "metadata": {},
   "outputs": [
    {
     "name": "stdout",
     "output_type": "stream",
     "text": [
      "<class 'pandas.core.frame.DataFrame'>\n",
      "RangeIndex: 891 entries, 0 to 890\n",
      "Data columns (total 12 columns):\n",
      " #   Column       Non-Null Count  Dtype  \n",
      "---  ------       --------------  -----  \n",
      " 0   PassengerId  891 non-null    int64  \n",
      " 1   Survived     891 non-null    int64  \n",
      " 2   Pclass       891 non-null    int64  \n",
      " 3   Name         891 non-null    object \n",
      " 4   Sex          891 non-null    object \n",
      " 5   Age          714 non-null    float64\n",
      " 6   SibSp        891 non-null    int64  \n",
      " 7   Parch        891 non-null    int64  \n",
      " 8   Ticket       891 non-null    object \n",
      " 9   Fare         891 non-null    float64\n",
      " 10  Cabin        204 non-null    object \n",
      " 11  Embarked     889 non-null    object \n",
      "dtypes: float64(2), int64(5), object(5)\n",
      "memory usage: 83.7+ KB\n"
     ]
    }
   ],
   "source": [
    "train_df.info()"
   ]
  },
  {
   "cell_type": "markdown",
   "id": "f4036a9a-5e3d-480b-8136-e55aed78c677",
   "metadata": {},
   "source": [
    "</br>**Null값이 있는 feautre** : Age, Cabin </br></br>\n",
    "**Age**</br>\n",
    "1\\. 평균값 처리 </br>\n",
    "2\\. 해당 index 삭제 </br></br>\n",
    "**Cabin** </br>\n",
    "NaN값이 너무 많으므로 새로운 문자열을 할당한다 -> 'N'"
   ]
  },
  {
   "cell_type": "markdown",
   "id": "0b289859-6bda-421c-ade2-460721e7c29d",
   "metadata": {},
   "source": [
    "Age-mean 처리"
   ]
  },
  {
   "cell_type": "code",
   "execution_count": 5,
   "id": "e5536fbf-0b14-43bd-b59b-315f6f08b6b0",
   "metadata": {},
   "outputs": [],
   "source": [
    "def Age_NaN1(df):\n",
    "    df['Age'] = df['Age'].fillna(df['Age'].mean())\n",
    "    return df"
   ]
  },
  {
   "cell_type": "markdown",
   "id": "04e9fe36-98b2-4881-b236-97adf98f035b",
   "metadata": {},
   "source": [
    "Age-index 삭제"
   ]
  },
  {
   "cell_type": "code",
   "execution_count": 6,
   "id": "5a0cd935-09cb-448d-989a-933769a38c7e",
   "metadata": {},
   "outputs": [],
   "source": [
    "def Age_NaN2(df):\n",
    "    index = df[df['Age'].isna() == True].index.tolist()\n",
    "    df.drop(index, axis = 0, inplace = True)\n",
    "    return df"
   ]
  },
  {
   "cell_type": "markdown",
   "id": "32c1eb32-96c7-465a-8d62-42727642f75d",
   "metadata": {},
   "source": [
    "Cabin-'N' 치환"
   ]
  },
  {
   "cell_type": "code",
   "execution_count": 7,
   "id": "14a00152-5591-45bd-b6aa-9fb74c53a720",
   "metadata": {},
   "outputs": [],
   "source": [
    "def Cabin_NaN1(df):\n",
    "    df['Cabin'] = df['Cabin'].fillna('N')\n",
    "    return df"
   ]
  },
  {
   "cell_type": "markdown",
   "id": "d348fabd-aa25-4fd9-9a42-96751469c03b",
   "metadata": {},
   "source": [
    "**object형인 feature** : Sex, Cabin </br></br>\n",
    "**Sex**</br>\n",
    "성별이므로 카테고리성 OneHotEncoding/LabelEncoding 처리</br></br>\n",
    "**Cabin**</br>\n",
    "객실마다 모두 번호가 다르므로 맨 앞 알파벳만 뽑은 후 OneHotEncoding/LabelEncoding 처리"
   ]
  },
  {
   "cell_type": "markdown",
   "id": "472b8c41-13f8-4eb2-ada8-d02d3b7fc3c1",
   "metadata": {},
   "source": [
    "Sex-OneHotEncoding"
   ]
  },
  {
   "cell_type": "code",
   "execution_count": 8,
   "id": "ac828379-4da9-456b-9c33-5433d13643c2",
   "metadata": {},
   "outputs": [],
   "source": [
    "def Sex_Encoding1(df):\n",
    "    from sklearn.preprocessing import OneHotEncoder\n",
    "    df_sex = pd.get_dummies(df['Sex'], dummy_na = False)\n",
    "    df['female'] = df_sex['female']\n",
    "    df['male'] = df_sex['male']\n",
    "    df.drop('Sex', axis = 1, inplace = True)\n",
    "    return df"
   ]
  },
  {
   "cell_type": "markdown",
   "id": "15519a0c-3277-4690-8afd-c02cc2bfe78a",
   "metadata": {},
   "source": [
    "Sex-LabelEncoding"
   ]
  },
  {
   "cell_type": "code",
   "execution_count": 9,
   "id": "a8c73578-67a9-4c7c-b83d-b1c1256c787a",
   "metadata": {},
   "outputs": [],
   "source": [
    "def Sex_Encoding2(df):\n",
    "    from sklearn.preprocessing import LabelEncoder\n",
    "    label = LabelEncoder()\n",
    "    df_sex = label.fit_transform(df['Sex'])\n",
    "    df['Sex_encoded'] = df_sex\n",
    "    df.drop('Sex', axis = 1, inplace = True)\n",
    "    return df"
   ]
  },
  {
   "cell_type": "markdown",
   "id": "c58cc4cc-7d63-45e4-a39a-c2abce2304b9",
   "metadata": {},
   "source": [
    "Cabin-알파벳 치환 + OneHotEncoding"
   ]
  },
  {
   "cell_type": "code",
   "execution_count": 15,
   "id": "e6da87e9-0277-48bc-b5aa-78b9304dfd88",
   "metadata": {},
   "outputs": [],
   "source": [
    "def Cabin_Encoding1(df):\n",
    "    from sklearn.preprocessing import OneHotEncoder\n",
    "    Cabin_list = df['Cabin'].values.tolist()\n",
    "    for index, element in enumerate(Cabin_list):\n",
    "        Cabin_list[index] = element[0]\n",
    "    replace_cabin = pd.DataFrame(Cabin_list, columns = ['Cabin_encoded'])\n",
    "    df_cabin = pd.get_dummies(replace_cabin, dummy_na = False)\n",
    "    df2 = pd.concat([df,df_cabin], axis = 1)\n",
    "    df2.drop('Cabin', axis = 1, inplace = True)\n",
    "    df2\n",
    "    # df2 새로운 객체를 반환하므로 함수 호출 시 train_df = Cabin_Encoding1(train_df) 사용\n",
    "    return df2"
   ]
  },
  {
   "cell_type": "markdown",
   "id": "4a11090a-9689-4a0b-a44c-0f39ffd690cd",
   "metadata": {},
   "source": [
    "Cabin-알파벳 치환 + LabelEncoding"
   ]
  },
  {
   "cell_type": "code",
   "execution_count": 17,
   "id": "3db05ac0-968d-4352-a253-da45bd9f17c7",
   "metadata": {},
   "outputs": [],
   "source": [
    "def Cabin_Encoding2(df):\n",
    "    from sklearn.preprocessing import LabelEncoder\n",
    "    Cabin_list = df['Cabin'].values.tolist()\n",
    "    for index, element in enumerate(Cabin_list):\n",
    "        Cabin_list[index] = element[0]\n",
    "    label = LabelEncoder()\n",
    "    Cabin_list = label.fit_transform(Cabin_list)\n",
    "    df['Cabin_encoded'] = Cabin_list\n",
    "    df.drop('Cabin', axis = 1, inplace = True)\n",
    "    return df"
   ]
  },
  {
   "cell_type": "markdown",
   "id": "146742db-7dfd-4f2e-8dad-36d610de948a",
   "metadata": {},
   "source": [
    "### **Feature와 Label의 분포 확인**"
   ]
  },
  {
   "cell_type": "code",
   "execution_count": 22,
   "id": "67adb307-17c7-411b-aeb5-18a29d756e9e",
   "metadata": {},
   "outputs": [
    {
     "data": {
      "text/html": [
       "<div>\n",
       "<style scoped>\n",
       "    .dataframe tbody tr th:only-of-type {\n",
       "        vertical-align: middle;\n",
       "    }\n",
       "\n",
       "    .dataframe tbody tr th {\n",
       "        vertical-align: top;\n",
       "    }\n",
       "\n",
       "    .dataframe thead th {\n",
       "        text-align: right;\n",
       "    }\n",
       "</style>\n",
       "<table border=\"1\" class=\"dataframe\">\n",
       "  <thead>\n",
       "    <tr style=\"text-align: right;\">\n",
       "      <th></th>\n",
       "      <th>Survived</th>\n",
       "      <th>Pclass</th>\n",
       "      <th>Age</th>\n",
       "      <th>SibSp</th>\n",
       "      <th>Parch</th>\n",
       "      <th>Fare</th>\n",
       "    </tr>\n",
       "  </thead>\n",
       "  <tbody>\n",
       "    <tr>\n",
       "      <th>count</th>\n",
       "      <td>891.000000</td>\n",
       "      <td>891.000000</td>\n",
       "      <td>891.000000</td>\n",
       "      <td>891.000000</td>\n",
       "      <td>891.000000</td>\n",
       "      <td>891.000000</td>\n",
       "    </tr>\n",
       "    <tr>\n",
       "      <th>mean</th>\n",
       "      <td>0.383838</td>\n",
       "      <td>2.308642</td>\n",
       "      <td>29.699118</td>\n",
       "      <td>0.523008</td>\n",
       "      <td>0.381594</td>\n",
       "      <td>32.204208</td>\n",
       "    </tr>\n",
       "    <tr>\n",
       "      <th>std</th>\n",
       "      <td>0.486592</td>\n",
       "      <td>0.836071</td>\n",
       "      <td>13.002015</td>\n",
       "      <td>1.102743</td>\n",
       "      <td>0.806057</td>\n",
       "      <td>49.693429</td>\n",
       "    </tr>\n",
       "    <tr>\n",
       "      <th>min</th>\n",
       "      <td>0.000000</td>\n",
       "      <td>1.000000</td>\n",
       "      <td>0.420000</td>\n",
       "      <td>0.000000</td>\n",
       "      <td>0.000000</td>\n",
       "      <td>0.000000</td>\n",
       "    </tr>\n",
       "    <tr>\n",
       "      <th>25%</th>\n",
       "      <td>0.000000</td>\n",
       "      <td>2.000000</td>\n",
       "      <td>22.000000</td>\n",
       "      <td>0.000000</td>\n",
       "      <td>0.000000</td>\n",
       "      <td>7.910400</td>\n",
       "    </tr>\n",
       "    <tr>\n",
       "      <th>50%</th>\n",
       "      <td>0.000000</td>\n",
       "      <td>3.000000</td>\n",
       "      <td>29.699118</td>\n",
       "      <td>0.000000</td>\n",
       "      <td>0.000000</td>\n",
       "      <td>14.454200</td>\n",
       "    </tr>\n",
       "    <tr>\n",
       "      <th>75%</th>\n",
       "      <td>1.000000</td>\n",
       "      <td>3.000000</td>\n",
       "      <td>35.000000</td>\n",
       "      <td>1.000000</td>\n",
       "      <td>0.000000</td>\n",
       "      <td>31.000000</td>\n",
       "    </tr>\n",
       "    <tr>\n",
       "      <th>max</th>\n",
       "      <td>1.000000</td>\n",
       "      <td>3.000000</td>\n",
       "      <td>80.000000</td>\n",
       "      <td>8.000000</td>\n",
       "      <td>6.000000</td>\n",
       "      <td>512.329200</td>\n",
       "    </tr>\n",
       "  </tbody>\n",
       "</table>\n",
       "</div>"
      ],
      "text/plain": [
       "         Survived      Pclass         Age       SibSp       Parch        Fare\n",
       "count  891.000000  891.000000  891.000000  891.000000  891.000000  891.000000\n",
       "mean     0.383838    2.308642   29.699118    0.523008    0.381594   32.204208\n",
       "std      0.486592    0.836071   13.002015    1.102743    0.806057   49.693429\n",
       "min      0.000000    1.000000    0.420000    0.000000    0.000000    0.000000\n",
       "25%      0.000000    2.000000   22.000000    0.000000    0.000000    7.910400\n",
       "50%      0.000000    3.000000   29.699118    0.000000    0.000000   14.454200\n",
       "75%      1.000000    3.000000   35.000000    1.000000    0.000000   31.000000\n",
       "max      1.000000    3.000000   80.000000    8.000000    6.000000  512.329200"
      ]
     },
     "execution_count": 22,
     "metadata": {},
     "output_type": "execute_result"
    }
   ],
   "source": [
    "import pandas as pd\n",
    "import numpy as np\n",
    "\n",
    "train_df = pd.read_csv(\"./Data_File/train.csv\")\n",
    "delete_feature(train_df)\n",
    "Age_NaN1(train_df)\n",
    "\n",
    "train_df.describe()"
   ]
  },
  {
   "cell_type": "code",
   "execution_count": null,
   "id": "e5c49eb2-763f-4b05-ac79-73e5d68bea1e",
   "metadata": {},
   "outputs": [],
   "source": []
  }
 ],
 "metadata": {
  "kernelspec": {
   "display_name": "Python 3 (ipykernel)",
   "language": "python",
   "name": "python3"
  },
  "language_info": {
   "codemirror_mode": {
    "name": "ipython",
    "version": 3
   },
   "file_extension": ".py",
   "mimetype": "text/x-python",
   "name": "python",
   "nbconvert_exporter": "python",
   "pygments_lexer": "ipython3",
   "version": "3.12.3"
  }
 },
 "nbformat": 4,
 "nbformat_minor": 5
}
